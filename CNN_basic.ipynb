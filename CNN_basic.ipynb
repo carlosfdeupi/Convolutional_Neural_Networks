{
  "nbformat": 4,
  "nbformat_minor": 0,
  "metadata": {
    "kernelspec": {
      "display_name": "Python 3",
      "language": "python",
      "name": "python3"
    },
    "language_info": {
      "codemirror_mode": {
        "name": "ipython",
        "version": 3
      },
      "file_extension": ".py",
      "mimetype": "text/x-python",
      "name": "python",
      "nbconvert_exporter": "python",
      "pygments_lexer": "ipython3",
      "version": "3.8.10"
    },
    "colab": {
      "name": "CNN basic.ipynb",
      "provenance": [],
      "collapsed_sections": [],
      "include_colab_link": true
    },
    "accelerator": "GPU"
  },
  "cells": [
    {
      "cell_type": "markdown",
      "metadata": {
        "id": "view-in-github",
        "colab_type": "text"
      },
      "source": [
        "<a href=\"https://colab.research.google.com/github/carlosfdeupi/Convolutional_Neural_Networks/blob/main/CNN_basic.ipynb\" target=\"_parent\"><img src=\"https://colab.research.google.com/assets/colab-badge.svg\" alt=\"Open In Colab\"/></a>"
      ]
    },
    {
      "cell_type": "markdown",
      "metadata": {
        "id": "gGr4OuLjUa0C"
      },
      "source": [
        "Please mount your Google drive, and set up your working folder path here."
      ]
    },
    {
      "cell_type": "code",
      "metadata": {
        "id": "vgLRBWTyrWuy",
        "colab": {
          "base_uri": "https://localhost:8080/"
        },
        "outputId": "4d8a1c36-905b-444e-dde6-c844503da5a9"
      },
      "source": [
        "from google.colab import drive\n",
        "drive.mount('/content/drive')"
      ],
      "execution_count": null,
      "outputs": [
        {
          "output_type": "stream",
          "name": "stdout",
          "text": [
            "Drive already mounted at /content/drive; to attempt to forcibly remount, call drive.mount(\"/content/drive\", force_remount=True).\n"
          ]
        }
      ]
    },
    {
      "cell_type": "code",
      "metadata": {
        "id": "MWxDp2p5z1N6"
      },
      "source": [
        "import os\n",
        "# start your code here\n",
        "os.chdir(\"/content/drive/MyDrive/Homework9\") # change your working folder here\n",
        "# end your code here"
      ],
      "execution_count": null,
      "outputs": []
    },
    {
      "cell_type": "markdown",
      "metadata": {
        "id": "gtCT9YhKzJGk"
      },
      "source": [
        "# Convolutional Neural Networks: Gesture Classification\n",
        "\n",
        "Welcome to our thrid module! In this notebook, you will:\n",
        "\n",
        "- Implement a fully functioning ConvNet using TensorFlow \n",
        "\n",
        "**After this assignment you will be able to:**\n",
        "\n",
        "- Build and train a ConvNet in TensorFlow for a classification problem \n",
        "\n",
        "We assume here that you are already familiar with TensorFlow. "
      ]
    },
    {
      "cell_type": "markdown",
      "metadata": {
        "id": "3eikfPvXzJGn"
      },
      "source": [
        "## 1.0 - TensorFlow model\n",
        "\n",
        "As usual, we will start by loading in the packages. \n"
      ]
    },
    {
      "cell_type": "code",
      "metadata": {
        "id": "HZKX0DrOzJGo"
      },
      "source": [
        "import math\n",
        "import numpy as np\n",
        "import h5py\n",
        "import matplotlib.pyplot as plt\n",
        "import scipy\n",
        "from PIL import Image\n",
        "import tensorflow as tf\n",
        "from tensorflow.python.framework import ops\n",
        "from tensorflow.keras import datasets, layers, models\n",
        "from cnn_utils import *\n",
        "\n",
        "%matplotlib inline\n",
        "np.random.seed(1)\n",
        "tf.random.set_seed(1234)"
      ],
      "execution_count": null,
      "outputs": []
    },
    {
      "cell_type": "markdown",
      "metadata": {
        "id": "-mH0FbyVzJGo"
      },
      "source": [
        "Run the next cell to load the \"SIGNS\" dataset you are going to use."
      ]
    },
    {
      "cell_type": "code",
      "metadata": {
        "id": "7FaF-i0nzJGp"
      },
      "source": [
        "# Loading the data (signs)\n",
        "X_train_orig, Y_train_orig, X_test_orig, Y_test_orig, classes = load_dataset()"
      ],
      "execution_count": null,
      "outputs": []
    },
    {
      "cell_type": "markdown",
      "metadata": {
        "id": "6b_2DdXRzJGp"
      },
      "source": [
        "As a reminder, the SIGNS dataset is a collection of 6 signs representing numbers from 0 to 5.\n",
        "\n",
        "![alt text](https://drive.google.com/uc?id=1db9mIM_lD4StTKhab9nfLfdCSLjXG3Cf)\n",
        "The next cell will show you an example of a labelled image in the dataset. Feel free to change the value of `index` below and re-run to see different examples. "
      ]
    },
    {
      "cell_type": "code",
      "metadata": {
        "colab": {
          "base_uri": "https://localhost:8080/",
          "height": 286
        },
        "id": "SkLqPXQDzJGp",
        "outputId": "3756a294-4c01-4c20-e92b-86a4cc8fec7a"
      },
      "source": [
        "# Example of a picture\n",
        "index = 1076\n",
        "plt.imshow(X_train_orig[index])\n",
        "print (\"y = \" + str(np.squeeze(Y_train_orig[:, index])))"
      ],
      "execution_count": null,
      "outputs": [
        {
          "output_type": "stream",
          "name": "stdout",
          "text": [
            "y = 1\n"
          ]
        },
        {
          "output_type": "display_data",
          "data": {
            "text/plain": [
              "<Figure size 432x288 with 1 Axes>"
            ],
            "image/png": "[encoded data removed]"
          },
          "metadata": {
            "needs_background": "light"
          }
        }
      ]
    },
    {
      "cell_type": "markdown",
      "metadata": {
        "id": "tZgKdERozJGq"
      },
      "source": [
        "To get started, let's examine the shapes of your data. "
      ]
    },
    {
      "cell_type": "code",
      "metadata": {
        "colab": {
          "base_uri": "https://localhost:8080/"
        },
        "id": "c-4uG22tzJGr",
        "outputId": "6f4d6a5b-9122-424c-9d7b-ad015c85dc6c"
      },
      "source": [
        "# what do the following two lines do?\n",
        "X_train = X_train_orig/255.\n",
        "X_test = X_test_orig/255.\n",
        "\n",
        "# Next, we will convert the value 0,1,2,3,4,5 to a one-hot column. \n",
        "Y_train = convert_to_one_hot(Y_train_orig, 6).T\n",
        "Y_test = convert_to_one_hot(Y_test_orig, 6).T\n",
        "print (\"number of training examples = \" + str(X_train.shape[0]))\n",
        "print (\"number of test examples = \" + str(X_test.shape[0]))\n",
        "print (\"X_train shape: \" + str(X_train.shape))\n",
        "print (\"Y_train shape: \" + str(Y_train.shape))\n",
        "print (\"X_test shape: \" + str(X_test.shape))\n",
        "print (\"Y_test shape: \" + str(Y_test.shape))\n",
        "conv_layers = {}"
      ],
      "execution_count": null,
      "outputs": [
        {
          "output_type": "stream",
          "name": "stdout",
          "text": [
            "number of training examples = 1080\n",
            "number of test examples = 120\n",
            "X_train shape: (1080, 64, 64, 3)\n",
            "Y_train shape: (1080, 6)\n",
            "X_test shape: (120, 64, 64, 3)\n",
            "Y_test shape: (120, 6)\n"
          ]
        }
      ]
    },
    {
      "cell_type": "markdown",
      "metadata": {
        "id": "HtVo2LWdzJGr"
      },
      "source": [
        "### 1.1 - Create the convolutional base\n",
        "\n",
        "In TensorFlow, there are built-in functions that carry out the convolution steps for you.\n",
        "\n",
        "- **tf.keras.models.Sequential()** groups a linear stack of layers into a neural networt model. You can read the full documentation [here](https://www.tensorflow.org/api_docs/python/tf/keras/Sequential)\n",
        "- **tf.keras.layers.Conv2D(filters, kernel_size, strides=(1, 1), padding='valid', activation=None, input_shape=(32, 32, 3), kernel_initializer='glorot_uniform'):** 'filters' specifies the number of filters in this Conv layer. 'kernel_size' indicates the height and the width of the filters, e.g., (3,3) means a 3 by 3 filter. The third input 'strides' represents the strides for the height and the width of the input (n_H_prev, n_W_prev) with default value (1,1). 'padding' can be 'valid'(default) or 'same'. You can choose your activation function in the input 'activation'. You may want to specify your image shape in 'input_shape'. (32,32,3) means this is a 32 by 32 RGB image. 'kernel_initializer' specifies how you want to initialize your filter. You can read the full documentation [here](https://www.tensorflow.org/api_docs/python/tf/keras/layers/Conv2D)\n",
        "- **tf.keras.layers.MaxPooling2D(pool_size=(f, f), strides=(s,s), padding='valid'):** this function uses a window of size (f, f) and strides of size (s, s) to carry out max pooling over each window. You can read the full documentation [here](https://www.tensorflow.org/api_docs/python/tf/keras/layers/MaxPool2D)\n",
        "\n",
        "**Exercise**: \n",
        "\n",
        "Build the following model: `CONV2D -> MAXPOOL -> CONV2D -> MAXPOOL`. You should use the functions above. \n",
        "\n",
        "In detail, we will use the following parameters for all the steps:\n",
        "\n",
        "     - Conv2D: 8 filters with size (4,4), stride 1, padding is \"same\", activation function is 'Relu', input_shape=(64,64,3), filter initializer is 'glorot_uniform'\n",
        "     - Max pool: Use an 8 by 8 filter size and an 8 by 8 stride, padding is \"same\"\n",
        "     - Conv2D: 16 filters with size (2,2), stride 1, padding is \"same\", activation function is 'Relu', filter initializer is 'glorot_uniform', input shape will be decided automatically\n",
        "     - Max pool: Use a 4 by 4 filter size and a 4 by 4 stride, padding is \"same\""
      ]
    },
    {
      "cell_type": "code",
      "metadata": {
        "id": "1l6pEKH4zJGs",
        "colab": {
          "base_uri": "https://localhost:8080/"
        },
        "outputId": "7d6f928d-cbbc-47d7-f5ea-b12d2413a1ea"
      },
      "source": [
        "# GRADED steps\n",
        "\n",
        "model = models.Sequential()\n",
        "#add a conv layer: 8 filters with size (4,4), stride (1,1), padding is 'same', activation function is 'relu', input_shape=(64,64,3), filter initializer is 'glorot_uniform'\n",
        "model.add(tf.keras.layers.Conv2D(8,\n",
        "                                 (4,4),\n",
        "                                 strides=(1,1), \n",
        "                                 padding='same', activation='relu', \n",
        "                                 input_shape=(64,64,3), \n",
        "                                 kernel_initializer='glorot_uniform',\n",
        "                                 kernel_regularizer=tf.keras.regularizers.L2(0.01)))\n",
        "#add a MAXPOOL layer: window 8x8, sride (8,8), padding 'same'\n",
        "model.add(tf.keras.layers.MaxPooling2D(pool_size=(8,8), strides=(8,8), padding='same'))\n",
        "\n",
        "### START CODE HERE ###\n",
        "#add the second conv layer: 16 filters with size (2,2), stride (1,1), padding is \"same\", activation function is 'relu', filter initializer is 'glorot_uniform', input shape will be decided automatically\n",
        "model.add(tf.keras.layers.Conv2D(16,\n",
        "                                 (2,2),\n",
        "                                 strides=(1,1), \n",
        "                                 padding='same', activation='relu',\n",
        "                                 kernel_initializer='glorot_uniform',\n",
        "                                 kernel_regularizer=tf.keras.regularizers.L2(0.01)))\n",
        "#add the second MAXPOOL layer: window 4x4, stride (4,4), padding 'same'\n",
        "model.add(tf.keras.layers.MaxPooling2D(pool_size=(4,4), strides=(4,4), padding='same'))\n",
        "### END CODE HERE ###\n",
        "\n",
        "model.summary()"
      ],
      "execution_count": null,
      "outputs": [
        {
          "output_type": "stream",
          "name": "stdout",
          "text": [
            "Model: \"sequential_5\"\n",
            "_________________________________________________________________\n",
            " Layer (type)                Output Shape              Param #   \n",
            "=================================================================\n",
            " conv2d_10 (Conv2D)          (None, 64, 64, 8)         392       \n",
            "                                                                 \n",
            " max_pooling2d_10 (MaxPoolin  (None, 8, 8, 8)          0         \n",
            " g2D)                                                            \n",
            "                                                                 \n",
            " conv2d_11 (Conv2D)          (None, 8, 8, 16)          528       \n",
            "                                                                 \n",
            " max_pooling2d_11 (MaxPoolin  (None, 2, 2, 16)         0         \n",
            " g2D)                                                            \n",
            "                                                                 \n",
            "=================================================================\n",
            "Total params: 920\n",
            "Trainable params: 920\n",
            "Non-trainable params: 0\n",
            "_________________________________________________________________\n"
          ]
        }
      ]
    },
    {
      "cell_type": "markdown",
      "metadata": {
        "id": "nOnPUuP0zJGt"
      },
      "source": [
        "**Expected Output**:\n",
        "\n",
        "![alt text](https://urldefense.com/v3/__https://drive.google.com/uc?id=16G8b6zw23HkPTSmKKboIVqB_ehiDE9BL__;!!PhOWcWs!lj_KcD0A6Xl-_k4Lj8Ll_SLpdbsvdvk2BUHx7Ca3ALRgep71u_2GAgTSv5pO1_y0ZRQV_so$ )"
      ]
    },
    {
      "cell_type": "markdown",
      "metadata": {
        "id": "5960XuFPzJGt"
      },
      "source": [
        "### 1.2 - Add Dense layers on top\n",
        "To complete our model, you will feed the last output tensor from the convolutional base (of shape (4, 4, 64)) into one or more Dense layers to perform classification. There are built-in functions that carry out these steps for you.\n",
        "\n",
        "- **tf.keras.layers.Flatten()**: this function flattens each example into a 1D vector while maintaining the batch-size. It returns a flattened tensor with shape [batch_size, k]. You can read the full documentation [here.](https://www.tensorflow.org/api_docs/python/tf/keras/layers/Flatten)\n",
        "- **tf.keras.layers.Dense(num_outputs):** It returns the output computed using a fully connected layer. You shall specify the number of outputs in 'num_outputs'. You can read the full documentation [here.](https://urldefense.com/v3/__https://www.tensorflow.org/api_docs/python/tf/keras/layers/Dense)\n",
        "In the last function above (`tf.keras.layers.Dense`), the fully connected layer automatically initializes weights in the graph and keeps on training them as you train the model. Hence, you did not need to initialize those weights when initializing the parameters. \n",
        "\n",
        "**Exercise**: \n",
        "\n",
        "Build the fully connected (Dense) layer on the Conv base: `CONV2D -> MAXPOOL -> CONV2D -> MAXPOOL -> FLATTEN -> DENSE`. You should use the functions above. \n",
        "\n",
        "- Flatten the previous output.\n",
        "- FULLYCONNECTED (Dense) layer: Apply a fully connected layer with activation function 'softmax'. Multi-class classification problems usually use 'softmax' as the activation function in the output layer if the target output is a 'one-hot' function."
      ]
    },
    {
      "cell_type": "code",
      "metadata": {
        "id": "_6JwEDs0zJGt",
        "colab": {
          "base_uri": "https://localhost:8080/"
        },
        "outputId": "1d89cc6a-5b88-4290-b4a0-98e09e31e282"
      },
      "source": [
        "# add the FLATTEN layer: tf.keras.layers.Flatten()\n",
        "model.add(tf.keras.layers.Flatten())\n",
        "\n",
        "### START CODE HERE ###\n",
        "# Please add a dense layer with 6 neurons, and activation function 'softmax'\n",
        "model.add(tf.keras.layers.Dense(6, activation='softmax'))\n",
        "### END CODE HERE ###\n",
        "\n",
        "model.summary()"
      ],
      "execution_count": null,
      "outputs": [
        {
          "output_type": "stream",
          "name": "stdout",
          "text": [
            "Model: \"sequential_5\"\n",
            "_________________________________________________________________\n",
            " Layer (type)                Output Shape              Param #   \n",
            "=================================================================\n",
            " conv2d_10 (Conv2D)          (None, 64, 64, 8)         392       \n",
            "                                                                 \n",
            " max_pooling2d_10 (MaxPoolin  (None, 8, 8, 8)          0         \n",
            " g2D)                                                            \n",
            "                                                                 \n",
            " conv2d_11 (Conv2D)          (None, 8, 8, 16)          528       \n",
            "                                                                 \n",
            " max_pooling2d_11 (MaxPoolin  (None, 2, 2, 16)         0         \n",
            " g2D)                                                            \n",
            "                                                                 \n",
            " flatten_5 (Flatten)         (None, 64)                0         \n",
            "                                                                 \n",
            " dense_5 (Dense)             (None, 6)                 390       \n",
            "                                                                 \n",
            "=================================================================\n",
            "Total params: 1,310\n",
            "Trainable params: 1,310\n",
            "Non-trainable params: 0\n",
            "_________________________________________________________________\n"
          ]
        }
      ]
    },
    {
      "cell_type": "markdown",
      "metadata": {
        "id": "KMjW-h1wzJGu"
      },
      "source": [
        "As you can see, our (2, 2, 16) outputs were flattened into vectors of shape (64) before going through the Dense layer.\n",
        "\n",
        "**Expected Output**:\n",
        "\n",
        "![alt text](https://urldefense.com/v3/__https://drive.google.com/uc?id=15jEv_qKYS0r95tiXQbcuS6PxlBnKcb4R__;!!PhOWcWs!lj_KcD0A6Xl-_k4Lj8Ll_SLpdbsvdvk2BUHx7Ca3ALRgep71u_2GAgTSv5pO1_y0UEdgN_4$ )"
      ]
    },
    {
      "cell_type": "markdown",
      "metadata": {
        "id": "ZfZqriITzJGu"
      },
      "source": [
        "### 1.3 - Compile and train the model\n",
        "When compiling the model, you will specify the optimizer, the loss function, and the metric you are going to use. \n",
        "\n",
        "- **compile(optimizer=None, loss=None, metrics=None)** You can check the full documentation  [here.](https://urldefense.com/v3/__https://www.tensorflow.org/api_docs/python/tf/keras/Model*compile)\n",
        "- **tf.keras.losses.CategoricalCrossentropy()** You can check the full documentation  [here.](https://urldefense.com/v3/__https://www.tensorflow.org/api_docs/python/tf/keras/losses/CategoricalCrossentropy)\n",
        "\n",
        "**Exercise**: Compile the model using 'tf.keras.optimizers.Adam(learning_rate=None)' as the optimizer, 'tf.keras.losses.CategoricalCrossentropy()' as the loss function, and 'accuracy' as the metrics.\n",
        "\n",
        "Now, we are ready to train the model. During the training process, you need to specify training input, training output, epoch number and batch size. The samples will be shuffled by default. \n",
        "\n",
        "-**model.fit(x=None, y=None, batch_size=None, epochs=1,validation_split=0.0)**\n",
        "\n",
        "**Exercise**: train the model with epoch number no more than 400. \n",
        "\n",
        "Please adjust the learning_rate in the adam optimizer and the batch_size in 'model.fit' such that the accuracy of the training set is above 92% at the end of the training.\n"
      ]
    },
    {
      "cell_type": "code",
      "metadata": {
        "id": "7F1KoZMzzJGu",
        "colab": {
          "base_uri": "https://localhost:8080/",
          "height": 1000
        },
        "outputId": "cfc5f311-bc7e-4c48-d035-c585c347b5eb"
      },
      "source": [
        "# GRADED FUNCTION: compile the model \n",
        "\n",
        "# Compile the model using 'adam' as the optimizer, 'tf.keras.losses.CategoricalCrossentropy()' as the loss function, and 'accuracy' as the metrics.\n",
        "\n",
        "### START CODE HERE ### \n",
        "model.compile(optimizer=tf.keras.optimizers.Adam(learning_rate=0.001),\n",
        "          loss=tf.keras.losses.CategoricalCrossentropy(),\n",
        "          metrics='accuracy')\n",
        "### END CODE HERE ###\n",
        "\n",
        "# GRADED FUNCTION: train the model \n",
        "\n",
        "# train the model with batch size = 64, and epoch number = 100.\n",
        "\n",
        "### START CODE HERE ### \n",
        "history = model.fit(x=X_train, y=Y_train, batch_size=32, epochs=200)\n",
        "### END CODE HERE ###\n",
        "\n",
        "## plot the training history\n",
        "plt.plot(history.history['loss'], label='loss')\n",
        "# plt.plot(history.history['val_loss'], label='val_loss')\n",
        "plt.xlabel('Epoch')\n",
        "plt.ylabel('Loss')\n",
        "#plt.ylim([0.5, 1])\n",
        "plt.legend(loc='lower right')\n",
        "#print('The training accuracy is', history.history['accuracy'][-1])"
      ],
      "execution_count": null,
      "outputs": [
        {
          "output_type": "stream",
          "name": "stdout",
          "text": [
            "Epoch 1/200\n",
            "34/34 [==============================] - 1s 8ms/step - loss: 1.9535 - accuracy: 0.1667\n",
            "Epoch 2/200\n",
            "34/34 [==============================] - 0s 10ms/step - loss: 1.9175 - accuracy: 0.1620\n",
            "Epoch 3/200\n",
            "34/34 [==============================] - 0s 8ms/step - loss: 1.8963 - accuracy: 0.2000\n",
            "Epoch 4/200\n",
            "34/34 [==============================] - 0s 9ms/step - loss: 1.8800 - accuracy: 0.2491\n",
            "Epoch 5/200\n",
            "34/34 [==============================] - 0s 9ms/step - loss: 1.8648 - accuracy: 0.2157\n",
            "Epoch 6/200\n",
            "34/34 [==============================] - 0s 8ms/step - loss: 1.8488 - accuracy: 0.1926\n",
            "Epoch 7/200\n",
            "34/34 [==============================] - 0s 8ms/step - loss: 1.8326 - accuracy: 0.2435\n",
            "Epoch 8/200\n",
            "34/34 [==============================] - 0s 8ms/step - loss: 1.8170 - accuracy: 0.3120\n",
            "Epoch 9/200\n",
            "34/34 [==============================] - 0s 9ms/step - loss: 1.7970 - accuracy: 0.2759\n",
            "Epoch 10/200\n",
            "34/34 [==============================] - 0s 9ms/step - loss: 1.7834 - accuracy: 0.2889\n",
            "Epoch 11/200\n",
            "34/34 [==============================] - 0s 9ms/step - loss: 1.7424 - accuracy: 0.3815\n",
            "Epoch 12/200\n",
            "34/34 [==============================] - 0s 8ms/step - loss: 1.7159 - accuracy: 0.3398\n",
            "Epoch 13/200\n",
            "34/34 [==============================] - 0s 9ms/step - loss: 1.6749 - accuracy: 0.3917\n",
            "Epoch 14/200\n",
            "34/34 [==============================] - 0s 8ms/step - loss: 1.6393 - accuracy: 0.4231\n",
            "Epoch 15/200\n",
            "34/34 [==============================] - 0s 8ms/step - loss: 1.6024 - accuracy: 0.4435\n",
            "Epoch 16/200\n",
            "34/34 [==============================] - 0s 9ms/step - loss: 1.5670 - accuracy: 0.4704\n",
            "Epoch 17/200\n",
            "34/34 [==============================] - 0s 8ms/step - loss: 1.5362 - accuracy: 0.4963\n",
            "Epoch 18/200\n",
            "34/34 [==============================] - 0s 8ms/step - loss: 1.4971 - accuracy: 0.5000\n",
            "Epoch 19/200\n",
            "34/34 [==============================] - 0s 9ms/step - loss: 1.4784 - accuracy: 0.5111\n",
            "Epoch 20/200\n",
            "34/34 [==============================] - 0s 8ms/step - loss: 1.4488 - accuracy: 0.5111\n",
            "Epoch 21/200\n",
            "34/34 [==============================] - 0s 9ms/step - loss: 1.4222 - accuracy: 0.5222\n",
            "Epoch 22/200\n",
            "34/34 [==============================] - 0s 8ms/step - loss: 1.3872 - accuracy: 0.5556\n",
            "Epoch 23/200\n",
            "34/34 [==============================] - 0s 9ms/step - loss: 1.3752 - accuracy: 0.5491\n",
            "Epoch 24/200\n",
            "34/34 [==============================] - 0s 9ms/step - loss: 1.3394 - accuracy: 0.5741\n",
            "Epoch 25/200\n",
            "34/34 [==============================] - 0s 8ms/step - loss: 1.3314 - accuracy: 0.5657\n",
            "Epoch 26/200\n",
            "34/34 [==============================] - 0s 9ms/step - loss: 1.3068 - accuracy: 0.5944\n",
            "Epoch 27/200\n",
            "34/34 [==============================] - 0s 9ms/step - loss: 1.2745 - accuracy: 0.6000\n",
            "Epoch 28/200\n",
            "34/34 [==============================] - 0s 9ms/step - loss: 1.2597 - accuracy: 0.6324\n",
            "Epoch 29/200\n",
            "34/34 [==============================] - 0s 9ms/step - loss: 1.2358 - accuracy: 0.6231\n",
            "Epoch 30/200\n",
            "34/34 [==============================] - 0s 9ms/step - loss: 1.2143 - accuracy: 0.6481\n",
            "Epoch 31/200\n",
            "34/34 [==============================] - 0s 8ms/step - loss: 1.2032 - accuracy: 0.6370\n",
            "Epoch 32/200\n",
            "34/34 [==============================] - 0s 8ms/step - loss: 1.1983 - accuracy: 0.6444\n",
            "Epoch 33/200\n",
            "34/34 [==============================] - 0s 9ms/step - loss: 1.1764 - accuracy: 0.6556\n",
            "Epoch 34/200\n",
            "34/34 [==============================] - 0s 9ms/step - loss: 1.1697 - accuracy: 0.6389\n",
            "Epoch 35/200\n",
            "34/34 [==============================] - 0s 8ms/step - loss: 1.1627 - accuracy: 0.6380\n",
            "Epoch 36/200\n",
            "34/34 [==============================] - 0s 9ms/step - loss: 1.1391 - accuracy: 0.6796\n",
            "Epoch 37/200\n",
            "34/34 [==============================] - 0s 8ms/step - loss: 1.1312 - accuracy: 0.6574\n",
            "Epoch 38/200\n",
            "34/34 [==============================] - 0s 8ms/step - loss: 1.1356 - accuracy: 0.6556\n",
            "Epoch 39/200\n",
            "34/34 [==============================] - 0s 8ms/step - loss: 1.1214 - accuracy: 0.6630\n",
            "Epoch 40/200\n",
            "34/34 [==============================] - 0s 9ms/step - loss: 1.1086 - accuracy: 0.6620\n",
            "Epoch 41/200\n",
            "34/34 [==============================] - 0s 8ms/step - loss: 1.0893 - accuracy: 0.6815\n",
            "Epoch 42/200\n",
            "34/34 [==============================] - 0s 9ms/step - loss: 1.0953 - accuracy: 0.6750\n",
            "Epoch 43/200\n",
            "34/34 [==============================] - 0s 9ms/step - loss: 1.0928 - accuracy: 0.6713\n",
            "Epoch 44/200\n",
            "34/34 [==============================] - 0s 8ms/step - loss: 1.0712 - accuracy: 0.6926\n",
            "Epoch 45/200\n",
            "34/34 [==============================] - 0s 9ms/step - loss: 1.0591 - accuracy: 0.7111\n",
            "Epoch 46/200\n",
            "34/34 [==============================] - 0s 9ms/step - loss: 1.0402 - accuracy: 0.7241\n",
            "Epoch 47/200\n",
            "34/34 [==============================] - 0s 9ms/step - loss: 1.0527 - accuracy: 0.7065\n",
            "Epoch 48/200\n",
            "34/34 [==============================] - 0s 8ms/step - loss: 1.0429 - accuracy: 0.7009\n",
            "Epoch 49/200\n",
            "34/34 [==============================] - 0s 9ms/step - loss: 1.0416 - accuracy: 0.7111\n",
            "Epoch 50/200\n",
            "34/34 [==============================] - 0s 9ms/step - loss: 1.0318 - accuracy: 0.7176\n",
            "Epoch 51/200\n",
            "34/34 [==============================] - 0s 8ms/step - loss: 1.0279 - accuracy: 0.7148\n",
            "Epoch 52/200\n",
            "34/34 [==============================] - 0s 9ms/step - loss: 1.0096 - accuracy: 0.7259\n",
            "Epoch 53/200\n",
            "34/34 [==============================] - 0s 9ms/step - loss: 1.0207 - accuracy: 0.7065\n",
            "Epoch 54/200\n",
            "34/34 [==============================] - 0s 8ms/step - loss: 0.9959 - accuracy: 0.7278\n",
            "Epoch 55/200\n",
            "34/34 [==============================] - 0s 8ms/step - loss: 0.9928 - accuracy: 0.7231\n",
            "Epoch 56/200\n",
            "34/34 [==============================] - 0s 9ms/step - loss: 1.0023 - accuracy: 0.7269\n",
            "Epoch 57/200\n",
            "34/34 [==============================] - 0s 8ms/step - loss: 0.9899 - accuracy: 0.7278\n",
            "Epoch 58/200\n",
            "34/34 [==============================] - 0s 9ms/step - loss: 0.9862 - accuracy: 0.7287\n",
            "Epoch 59/200\n",
            "34/34 [==============================] - 0s 8ms/step - loss: 1.0036 - accuracy: 0.7167\n",
            "Epoch 60/200\n",
            "34/34 [==============================] - 0s 9ms/step - loss: 0.9781 - accuracy: 0.7278\n",
            "Epoch 61/200\n",
            "34/34 [==============================] - 0s 9ms/step - loss: 0.9744 - accuracy: 0.7407\n",
            "Epoch 62/200\n",
            "34/34 [==============================] - 0s 9ms/step - loss: 0.9741 - accuracy: 0.7370\n",
            "Epoch 63/200\n",
            "34/34 [==============================] - 0s 9ms/step - loss: 0.9794 - accuracy: 0.7315\n",
            "Epoch 64/200\n",
            "34/34 [==============================] - 0s 9ms/step - loss: 0.9759 - accuracy: 0.7333\n",
            "Epoch 65/200\n",
            "34/34 [==============================] - 0s 9ms/step - loss: 0.9629 - accuracy: 0.7389\n",
            "Epoch 66/200\n",
            "34/34 [==============================] - 0s 9ms/step - loss: 0.9552 - accuracy: 0.7528\n",
            "Epoch 67/200\n",
            "34/34 [==============================] - 0s 9ms/step - loss: 0.9484 - accuracy: 0.7519\n",
            "Epoch 68/200\n",
            "34/34 [==============================] - 0s 8ms/step - loss: 0.9354 - accuracy: 0.7602\n",
            "Epoch 69/200\n",
            "34/34 [==============================] - 0s 9ms/step - loss: 0.9445 - accuracy: 0.7380\n",
            "Epoch 70/200\n",
            "34/34 [==============================] - 0s 9ms/step - loss: 0.9484 - accuracy: 0.7463\n",
            "Epoch 71/200\n",
            "34/34 [==============================] - 0s 8ms/step - loss: 0.9587 - accuracy: 0.7398\n",
            "Epoch 72/200\n",
            "34/34 [==============================] - 0s 9ms/step - loss: 0.9340 - accuracy: 0.7583\n",
            "Epoch 73/200\n",
            "34/34 [==============================] - 0s 9ms/step - loss: 0.9425 - accuracy: 0.7398\n",
            "Epoch 74/200\n",
            "34/34 [==============================] - 0s 9ms/step - loss: 0.9286 - accuracy: 0.7481\n",
            "Epoch 75/200\n",
            "34/34 [==============================] - 0s 8ms/step - loss: 0.9237 - accuracy: 0.7565\n",
            "Epoch 76/200\n",
            "34/34 [==============================] - 0s 8ms/step - loss: 0.9267 - accuracy: 0.7509\n",
            "Epoch 77/200\n",
            "34/34 [==============================] - 0s 9ms/step - loss: 0.9368 - accuracy: 0.7417\n",
            "Epoch 78/200\n",
            "34/34 [==============================] - 0s 8ms/step - loss: 0.9207 - accuracy: 0.7481\n",
            "Epoch 79/200\n",
            "34/34 [==============================] - 0s 9ms/step - loss: 0.9137 - accuracy: 0.7657\n",
            "Epoch 80/200\n",
            "34/34 [==============================] - 0s 9ms/step - loss: 0.9275 - accuracy: 0.7407\n",
            "Epoch 81/200\n",
            "34/34 [==============================] - 0s 8ms/step - loss: 0.9056 - accuracy: 0.7676\n",
            "Epoch 82/200\n",
            "34/34 [==============================] - 0s 9ms/step - loss: 0.8920 - accuracy: 0.7676\n",
            "Epoch 83/200\n",
            "34/34 [==============================] - 0s 9ms/step - loss: 0.9033 - accuracy: 0.7519\n",
            "Epoch 84/200\n",
            "34/34 [==============================] - 0s 8ms/step - loss: 0.8989 - accuracy: 0.7685\n",
            "Epoch 85/200\n",
            "34/34 [==============================] - 0s 9ms/step - loss: 0.9007 - accuracy: 0.7583\n",
            "Epoch 86/200\n",
            "34/34 [==============================] - 0s 9ms/step - loss: 0.8894 - accuracy: 0.7796\n",
            "Epoch 87/200\n",
            "34/34 [==============================] - 0s 8ms/step - loss: 0.8931 - accuracy: 0.7667\n",
            "Epoch 88/200\n",
            "34/34 [==============================] - 0s 9ms/step - loss: 0.8798 - accuracy: 0.7796\n",
            "Epoch 89/200\n",
            "34/34 [==============================] - 0s 9ms/step - loss: 0.8822 - accuracy: 0.7731\n",
            "Epoch 90/200\n",
            "34/34 [==============================] - 0s 9ms/step - loss: 0.8777 - accuracy: 0.7833\n",
            "Epoch 91/200\n",
            "34/34 [==============================] - 0s 9ms/step - loss: 0.8844 - accuracy: 0.7611\n",
            "Epoch 92/200\n",
            "34/34 [==============================] - 0s 9ms/step - loss: 0.8826 - accuracy: 0.7722\n",
            "Epoch 93/200\n",
            "34/34 [==============================] - 0s 9ms/step - loss: 0.8681 - accuracy: 0.7787\n",
            "Epoch 94/200\n",
            "34/34 [==============================] - 0s 8ms/step - loss: 0.8789 - accuracy: 0.7731\n",
            "Epoch 95/200\n",
            "34/34 [==============================] - 0s 9ms/step - loss: 0.8644 - accuracy: 0.7861\n",
            "Epoch 96/200\n",
            "34/34 [==============================] - 0s 9ms/step - loss: 0.8702 - accuracy: 0.7806\n",
            "Epoch 97/200\n",
            "34/34 [==============================] - 0s 9ms/step - loss: 0.8690 - accuracy: 0.7880\n",
            "Epoch 98/200\n",
            "34/34 [==============================] - 0s 9ms/step - loss: 0.8664 - accuracy: 0.7787\n",
            "Epoch 99/200\n",
            "34/34 [==============================] - 0s 9ms/step - loss: 0.8578 - accuracy: 0.7917\n",
            "Epoch 100/200\n",
            "34/34 [==============================] - 0s 8ms/step - loss: 0.8592 - accuracy: 0.7870\n",
            "Epoch 101/200\n",
            "34/34 [==============================] - 0s 8ms/step - loss: 0.8515 - accuracy: 0.7796\n",
            "Epoch 102/200\n",
            "34/34 [==============================] - 0s 9ms/step - loss: 0.8604 - accuracy: 0.7843\n",
            "Epoch 103/200\n",
            "34/34 [==============================] - 0s 9ms/step - loss: 0.8692 - accuracy: 0.7843\n",
            "Epoch 104/200\n",
            "34/34 [==============================] - 0s 8ms/step - loss: 0.8500 - accuracy: 0.7880\n",
            "Epoch 105/200\n",
            "34/34 [==============================] - 0s 9ms/step - loss: 0.8546 - accuracy: 0.7889\n",
            "Epoch 106/200\n",
            "34/34 [==============================] - 0s 8ms/step - loss: 0.8532 - accuracy: 0.7935\n",
            "Epoch 107/200\n",
            "34/34 [==============================] - 0s 8ms/step - loss: 0.8684 - accuracy: 0.7769\n",
            "Epoch 108/200\n",
            "34/34 [==============================] - 0s 8ms/step - loss: 0.8728 - accuracy: 0.7676\n",
            "Epoch 109/200\n",
            "34/34 [==============================] - 0s 9ms/step - loss: 0.8443 - accuracy: 0.7907\n",
            "Epoch 110/200\n",
            "34/34 [==============================] - 0s 9ms/step - loss: 0.8443 - accuracy: 0.7972\n",
            "Epoch 111/200\n",
            "34/34 [==============================] - 0s 9ms/step - loss: 0.8401 - accuracy: 0.7833\n",
            "Epoch 112/200\n",
            "34/34 [==============================] - 0s 9ms/step - loss: 0.8355 - accuracy: 0.7935\n",
            "Epoch 113/200\n",
            "34/34 [==============================] - 0s 8ms/step - loss: 0.8349 - accuracy: 0.7917\n",
            "Epoch 114/200\n",
            "34/34 [==============================] - 0s 9ms/step - loss: 0.8300 - accuracy: 0.7981\n",
            "Epoch 115/200\n",
            "34/34 [==============================] - 0s 9ms/step - loss: 0.8229 - accuracy: 0.8028\n",
            "Epoch 116/200\n",
            "34/34 [==============================] - 0s 8ms/step - loss: 0.8250 - accuracy: 0.8000\n",
            "Epoch 117/200\n",
            "34/34 [==============================] - 0s 8ms/step - loss: 0.8211 - accuracy: 0.8111\n",
            "Epoch 118/200\n",
            "34/34 [==============================] - 0s 9ms/step - loss: 0.8258 - accuracy: 0.8065\n",
            "Epoch 119/200\n",
            "34/34 [==============================] - 0s 8ms/step - loss: 0.8200 - accuracy: 0.8102\n",
            "Epoch 120/200\n",
            "34/34 [==============================] - 0s 9ms/step - loss: 0.8253 - accuracy: 0.8102\n",
            "Epoch 121/200\n",
            "34/34 [==============================] - 0s 9ms/step - loss: 0.8237 - accuracy: 0.7935\n",
            "Epoch 122/200\n",
            "34/34 [==============================] - 0s 9ms/step - loss: 0.8113 - accuracy: 0.8083\n",
            "Epoch 123/200\n",
            "34/34 [==============================] - 0s 9ms/step - loss: 0.8040 - accuracy: 0.8176\n",
            "Epoch 124/200\n",
            "34/34 [==============================] - 0s 9ms/step - loss: 0.8082 - accuracy: 0.8130\n",
            "Epoch 125/200\n",
            "34/34 [==============================] - 0s 9ms/step - loss: 0.8070 - accuracy: 0.7972\n",
            "Epoch 126/200\n",
            "34/34 [==============================] - 0s 9ms/step - loss: 0.8199 - accuracy: 0.7991\n",
            "Epoch 127/200\n",
            "34/34 [==============================] - 0s 9ms/step - loss: 0.8042 - accuracy: 0.8074\n",
            "Epoch 128/200\n",
            "34/34 [==============================] - 0s 9ms/step - loss: 0.8177 - accuracy: 0.8019\n",
            "Epoch 129/200\n",
            "34/34 [==============================] - 0s 8ms/step - loss: 0.8002 - accuracy: 0.8176\n",
            "Epoch 130/200\n",
            "34/34 [==============================] - 0s 9ms/step - loss: 0.7940 - accuracy: 0.8074\n",
            "Epoch 131/200\n",
            "34/34 [==============================] - 0s 9ms/step - loss: 0.7944 - accuracy: 0.8139\n",
            "Epoch 132/200\n",
            "34/34 [==============================] - 0s 8ms/step - loss: 0.8073 - accuracy: 0.8000\n",
            "Epoch 133/200\n",
            "34/34 [==============================] - 0s 9ms/step - loss: 0.7927 - accuracy: 0.8167\n",
            "Epoch 134/200\n",
            "34/34 [==============================] - 0s 8ms/step - loss: 0.7928 - accuracy: 0.8074\n",
            "Epoch 135/200\n",
            "34/34 [==============================] - 0s 9ms/step - loss: 0.7904 - accuracy: 0.8185\n",
            "Epoch 136/200\n",
            "34/34 [==============================] - 0s 9ms/step - loss: 0.7867 - accuracy: 0.8157\n",
            "Epoch 137/200\n",
            "34/34 [==============================] - 0s 9ms/step - loss: 0.7893 - accuracy: 0.8167\n",
            "Epoch 138/200\n",
            "34/34 [==============================] - 0s 9ms/step - loss: 0.7835 - accuracy: 0.8148\n",
            "Epoch 139/200\n",
            "34/34 [==============================] - 0s 8ms/step - loss: 0.7937 - accuracy: 0.8065\n",
            "Epoch 140/200\n",
            "34/34 [==============================] - 0s 9ms/step - loss: 0.8058 - accuracy: 0.8083\n",
            "Epoch 141/200\n",
            "34/34 [==============================] - 0s 9ms/step - loss: 0.7839 - accuracy: 0.8130\n",
            "Epoch 142/200\n",
            "34/34 [==============================] - 0s 9ms/step - loss: 0.7806 - accuracy: 0.8241\n",
            "Epoch 143/200\n",
            "34/34 [==============================] - 0s 9ms/step - loss: 0.7754 - accuracy: 0.8213\n",
            "Epoch 144/200\n",
            "34/34 [==============================] - 0s 9ms/step - loss: 0.7748 - accuracy: 0.8148\n",
            "Epoch 145/200\n",
            "34/34 [==============================] - 0s 8ms/step - loss: 0.7810 - accuracy: 0.8167\n",
            "Epoch 146/200\n",
            "34/34 [==============================] - 0s 9ms/step - loss: 0.7787 - accuracy: 0.8213\n",
            "Epoch 147/200\n",
            "34/34 [==============================] - 0s 9ms/step - loss: 0.7626 - accuracy: 0.8333\n",
            "Epoch 148/200\n",
            "34/34 [==============================] - 0s 8ms/step - loss: 0.7687 - accuracy: 0.8315\n",
            "Epoch 149/200\n",
            "34/34 [==============================] - 0s 8ms/step - loss: 0.7661 - accuracy: 0.8259\n",
            "Epoch 150/200\n",
            "34/34 [==============================] - 0s 9ms/step - loss: 0.7583 - accuracy: 0.8324\n",
            "Epoch 151/200\n",
            "34/34 [==============================] - 0s 9ms/step - loss: 0.7575 - accuracy: 0.8259\n",
            "Epoch 152/200\n",
            "34/34 [==============================] - 0s 8ms/step - loss: 0.7650 - accuracy: 0.8241\n",
            "Epoch 153/200\n",
            "34/34 [==============================] - 0s 9ms/step - loss: 0.7550 - accuracy: 0.8324\n",
            "Epoch 154/200\n",
            "34/34 [==============================] - 0s 9ms/step - loss: 0.7469 - accuracy: 0.8333\n",
            "Epoch 155/200\n",
            "34/34 [==============================] - 0s 8ms/step - loss: 0.7512 - accuracy: 0.8315\n",
            "Epoch 156/200\n",
            "34/34 [==============================] - 0s 9ms/step - loss: 0.7546 - accuracy: 0.8324\n",
            "Epoch 157/200\n",
            "34/34 [==============================] - 0s 9ms/step - loss: 0.7523 - accuracy: 0.8296\n",
            "Epoch 158/200\n",
            "34/34 [==============================] - 0s 9ms/step - loss: 0.7852 - accuracy: 0.8167\n",
            "Epoch 159/200\n",
            "34/34 [==============================] - 0s 8ms/step - loss: 0.7448 - accuracy: 0.8278\n",
            "Epoch 160/200\n",
            "34/34 [==============================] - 0s 9ms/step - loss: 0.7498 - accuracy: 0.8444\n",
            "Epoch 161/200\n",
            "34/34 [==============================] - 0s 9ms/step - loss: 0.7462 - accuracy: 0.8417\n",
            "Epoch 162/200\n",
            "34/34 [==============================] - 0s 9ms/step - loss: 0.7585 - accuracy: 0.8389\n",
            "Epoch 163/200\n",
            "34/34 [==============================] - 0s 14ms/step - loss: 0.7570 - accuracy: 0.8324\n",
            "Epoch 164/200\n",
            "34/34 [==============================] - 0s 11ms/step - loss: 0.7440 - accuracy: 0.8472\n",
            "Epoch 165/200\n",
            "34/34 [==============================] - 1s 15ms/step - loss: 0.7474 - accuracy: 0.8472\n",
            "Epoch 166/200\n",
            "34/34 [==============================] - 0s 9ms/step - loss: 0.7388 - accuracy: 0.8481\n",
            "Epoch 167/200\n",
            "34/34 [==============================] - 0s 9ms/step - loss: 0.7356 - accuracy: 0.8389\n",
            "Epoch 168/200\n",
            "34/34 [==============================] - 0s 10ms/step - loss: 0.7378 - accuracy: 0.8324\n",
            "Epoch 169/200\n",
            "34/34 [==============================] - 0s 8ms/step - loss: 0.7274 - accuracy: 0.8435\n",
            "Epoch 170/200\n",
            "34/34 [==============================] - 0s 9ms/step - loss: 0.7245 - accuracy: 0.8528\n",
            "Epoch 171/200\n",
            "34/34 [==============================] - 0s 9ms/step - loss: 0.7320 - accuracy: 0.8481\n",
            "Epoch 172/200\n",
            "34/34 [==============================] - 0s 9ms/step - loss: 0.7284 - accuracy: 0.8519\n",
            "Epoch 173/200\n",
            "34/34 [==============================] - 0s 8ms/step - loss: 0.7272 - accuracy: 0.8491\n",
            "Epoch 174/200\n",
            "34/34 [==============================] - 0s 8ms/step - loss: 0.7275 - accuracy: 0.8407\n",
            "Epoch 175/200\n",
            "34/34 [==============================] - 0s 9ms/step - loss: 0.7223 - accuracy: 0.8370\n",
            "Epoch 176/200\n",
            "34/34 [==============================] - 0s 8ms/step - loss: 0.7296 - accuracy: 0.8435\n",
            "Epoch 177/200\n",
            "34/34 [==============================] - 0s 8ms/step - loss: 0.7184 - accuracy: 0.8556\n",
            "Epoch 178/200\n",
            "34/34 [==============================] - 0s 10ms/step - loss: 0.7297 - accuracy: 0.8426\n",
            "Epoch 179/200\n",
            "34/34 [==============================] - 0s 9ms/step - loss: 0.7224 - accuracy: 0.8407\n",
            "Epoch 180/200\n",
            "34/34 [==============================] - 0s 9ms/step - loss: 0.7190 - accuracy: 0.8444\n",
            "Epoch 181/200\n",
            "34/34 [==============================] - 0s 9ms/step - loss: 0.7183 - accuracy: 0.8472\n",
            "Epoch 182/200\n",
            "34/34 [==============================] - 0s 9ms/step - loss: 0.7308 - accuracy: 0.8454\n",
            "Epoch 183/200\n",
            "34/34 [==============================] - 0s 9ms/step - loss: 0.7133 - accuracy: 0.8491\n",
            "Epoch 184/200\n",
            "34/34 [==============================] - 0s 9ms/step - loss: 0.7063 - accuracy: 0.8537\n",
            "Epoch 185/200\n",
            "34/34 [==============================] - 0s 9ms/step - loss: 0.7215 - accuracy: 0.8407\n",
            "Epoch 186/200\n",
            "34/34 [==============================] - 0s 8ms/step - loss: 0.7045 - accuracy: 0.8454\n",
            "Epoch 187/200\n",
            "34/34 [==============================] - 0s 9ms/step - loss: 0.7178 - accuracy: 0.8417\n",
            "Epoch 188/200\n",
            "34/34 [==============================] - 0s 9ms/step - loss: 0.7049 - accuracy: 0.8620\n",
            "Epoch 189/200\n",
            "34/34 [==============================] - 0s 8ms/step - loss: 0.7032 - accuracy: 0.8602\n",
            "Epoch 190/200\n",
            "34/34 [==============================] - 0s 9ms/step - loss: 0.7005 - accuracy: 0.8509\n",
            "Epoch 191/200\n",
            "34/34 [==============================] - 0s 9ms/step - loss: 0.7020 - accuracy: 0.8546\n",
            "Epoch 192/200\n",
            "34/34 [==============================] - 0s 9ms/step - loss: 0.7245 - accuracy: 0.8472\n",
            "Epoch 193/200\n",
            "34/34 [==============================] - 0s 9ms/step - loss: 0.7135 - accuracy: 0.8565\n",
            "Epoch 194/200\n",
            "34/34 [==============================] - 0s 8ms/step - loss: 0.7015 - accuracy: 0.8519\n",
            "Epoch 195/200\n",
            "34/34 [==============================] - 0s 8ms/step - loss: 0.7036 - accuracy: 0.8574\n",
            "Epoch 196/200\n",
            "34/34 [==============================] - 0s 8ms/step - loss: 0.6964 - accuracy: 0.8704\n",
            "Epoch 197/200\n",
            "34/34 [==============================] - 0s 9ms/step - loss: 0.6896 - accuracy: 0.8519\n",
            "Epoch 198/200\n",
            "34/34 [==============================] - 0s 9ms/step - loss: 0.7020 - accuracy: 0.8556\n",
            "Epoch 199/200\n",
            "34/34 [==============================] - 0s 9ms/step - loss: 0.7102 - accuracy: 0.8537\n",
            "Epoch 200/200\n",
            "34/34 [==============================] - 0s 8ms/step - loss: 0.7036 - accuracy: 0.8620\n"
          ]
        },
        {
          "output_type": "execute_result",
          "data": {
            "text/plain": [
              "<matplotlib.legend.Legend at 0x7f4c3a458850>"
            ]
          },
          "metadata": {},
          "execution_count": 58
        },
        {
          "output_type": "display_data",
          "data": {
            "text/plain": [
              "<Figure size 432x288 with 1 Axes>"
            ],
            "image/png": "[encoded data removed]"
          },
          "metadata": {
            "needs_background": "light"
          }
        }
      ]
    },
    {
      "cell_type": "code",
      "metadata": {
        "id": "Jx0k1xiMzJGv",
        "colab": {
          "base_uri": "https://localhost:8080/"
        },
        "outputId": "30b52dbd-0552-4601-a895-6c2f020f46c1"
      },
      "source": [
        "# Now let's test your model in the test data to see how it works.\n",
        "test_loss, test_acc = model.evaluate(X_test,  Y_test)\n",
        "model.save('my_model.h5')"
      ],
      "execution_count": null,
      "outputs": [
        {
          "output_type": "stream",
          "name": "stdout",
          "text": [
            "4/4 [==============================] - 0s 10ms/step - loss: 0.8185 - accuracy: 0.8083\n"
          ]
        }
      ]
    },
    {
      "cell_type": "markdown",
      "metadata": {
        "id": "4p0jkE1rzJGv"
      },
      "source": [
        "**Expected output**\n",
        "accuracy shall be higher than 0.75.\n",
        "\n",
        "Congratulations! You have finised the assignment and built a model that recognizes SIGN language with almost 75% accuracy on the test set. You probably want to save your hard work, the trained model, using `model.save('my_model.h5')`. You can later load the saved model by the command `model = load_model('my_model.h5')`\n",
        "\n",
        "Once again, here's a thumbs up for your work! "
      ]
    },
    {
      "cell_type": "code",
      "metadata": {
        "tags": [],
        "id": "wzcz9l8szJGv",
        "colab": {
          "base_uri": "https://localhost:8080/",
          "height": 286
        },
        "outputId": "a3c67728-d14e-4894-91f2-c03eb88252d7"
      },
      "source": [
        "%pylab inline\n",
        "import matplotlib.image as mpimg\n",
        "img = mpimg.imread('images/thumbs_up.jpg')\n",
        "imgplot = plt.imshow(img)\n",
        "plt.show()"
      ],
      "execution_count": null,
      "outputs": [
        {
          "output_type": "stream",
          "name": "stdout",
          "text": [
            "Populating the interactive namespace from numpy and matplotlib\n"
          ]
        },
        {
          "output_type": "display_data",
          "data": {
            "text/plain": [
              "<Figure size 432x288 with 1 Axes>"
            ],
            "image/png": "[encoded data removed]"
          },
          "metadata": {
            "needs_background": "light"
          }
        }
      ]
    },
    {
      "cell_type": "markdown",
      "metadata": {
        "id": "rlkKE87azJGv"
      },
      "source": [
        "**Challenge**: Can you try to adjust the hyper-parameters (learning_rate, epochs, batch_size, kernel_regularizer) to improve the accuracy to 85%? \n",
        "\n",
        "If you wish, feel free to play around with this dataset further. You can actually improve its accuracy by spending more time tuning the hyperparameters, or using regularization (as this model clearly has a high variance). It's quite easy to specify the regularization in the model. Simply, add option 'kernel_regularizer=tf.keras.regularizers.L2(0.001),' to the Conv and Dense layer"
      ]
    }
  ]
}